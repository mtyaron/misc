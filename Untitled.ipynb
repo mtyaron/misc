{
 "cells": [
  {
   "cell_type": "code",
   "execution_count": 2,
   "id": "8a88ffc6",
   "metadata": {},
   "outputs": [],
   "source": [
    "%matplotlib qt\n",
    "import hyperspy.api as hs"
   ]
  },
  {
   "cell_type": "code",
   "execution_count": 42,
   "id": "cca090dc",
   "metadata": {},
   "outputs": [],
   "source": [
    "s = hs.load(\"SI_HAADF_1534_20240131.bcf\", select_type='spectrum_image')"
   ]
  },
  {
   "cell_type": "code",
   "execution_count": 43,
   "id": "ecd82420",
   "metadata": {},
   "outputs": [
    {
     "data": {
      "text/plain": [
       "\u001b[1;31mCall signature:\u001b[0m \u001b[0ms\u001b[0m\u001b[1;33m(\u001b[0m\u001b[0maxes_manager\u001b[0m\u001b[1;33m=\u001b[0m\u001b[1;32mNone\u001b[0m\u001b[1;33m,\u001b[0m \u001b[0mfft_shift\u001b[0m\u001b[1;33m=\u001b[0m\u001b[1;32mFalse\u001b[0m\u001b[1;33m,\u001b[0m \u001b[0mas_numpy\u001b[0m\u001b[1;33m=\u001b[0m\u001b[1;32mFalse\u001b[0m\u001b[1;33m)\u001b[0m\u001b[1;33m\u001b[0m\u001b[1;33m\u001b[0m\u001b[0m\n",
       "\u001b[1;31mType:\u001b[0m           EDSTEMSpectrum\n",
       "\u001b[1;31mString form:\u001b[0m    <EDSTEMSpectrum, title: EDX, dimensions: (238, 141|4096)>\n",
       "\u001b[1;31mLength:\u001b[0m         33558\n",
       "\u001b[1;31mFile:\u001b[0m           c:\\users\\user\\hyperspy-bundle\\lib\\site-packages\\hyperspy\\_signals\\eds_tem.py\n",
       "\u001b[1;31mDocstring:\u001b[0m      1D signal class for EDS spectra measured in a TEM.\n",
       "\u001b[1;31mInit docstring:\u001b[0m\n",
       "Create a Signal from a numpy array.\n",
       "\n",
       "Parameters\n",
       "----------\n",
       "data : :py:class:`numpy.ndarray`\n",
       "   The signal data. It can be an array of any dimensions.\n",
       "axes : [dict/axes], optional\n",
       "    List of either dictionaries or axes objects to define the axes (see\n",
       "    the documentation of the :py:class:`~hyperspy.axes.AxesManager`\n",
       "    class for more details).\n",
       "attributes : dict, optional\n",
       "    A dictionary whose items are stored as attributes.\n",
       "metadata : dict, optional\n",
       "    A dictionary containing a set of parameters\n",
       "    that will to stores in the ``metadata`` attribute.\n",
       "    Some parameters might be mandatory in some cases.\n",
       "original_metadata : dict, optional\n",
       "    A dictionary containing a set of parameters\n",
       "    that will to stores in the ``original_metadata`` attribute. It\n",
       "    typically contains all the parameters that has been\n",
       "    imported from the original data file.\n",
       "ragged : bool or None, optional\n",
       "    Define whether the signal is ragged or not. Overwrite the\n",
       "    ``ragged`` value in the ``attributes`` dictionary. If None, it does\n",
       "    nothing. Default is None."
      ]
     },
     "metadata": {},
     "output_type": "display_data"
    }
   ],
   "source": [
    "s?"
   ]
  },
  {
   "cell_type": "code",
   "execution_count": 44,
   "id": "b325c3d2",
   "metadata": {},
   "outputs": [],
   "source": [
    "s.plot()"
   ]
  },
  {
   "cell_type": "code",
   "execution_count": 40,
   "id": "130c6b79",
   "metadata": {},
   "outputs": [
    {
     "data": {
      "text/html": [
       "<ul style=\"margin: 0px; list-style-position: outside;\">\n",
       "                    <details open>\n",
       "                    <summary style=\"display: list-item;\">\n",
       "                    <li style=\"display: inline;\">\n",
       "                    Acquisition_instrument\n",
       "                    </li></summary>\n",
       "                    <ul style=\"margin: 0px; list-style-position: outside;\">\n",
       "                    <details closed>\n",
       "                    <summary style=\"display: list-item;\">\n",
       "                    <li style=\"display: inline;\">\n",
       "                    TEM\n",
       "                    </li></summary>\n",
       "                    <ul style=\"margin: 0px; list-style-position: outside;\">\n",
       "                    <details closed>\n",
       "                    <summary style=\"display: list-item;\">\n",
       "                    <li style=\"display: inline;\">\n",
       "                    Detector\n",
       "                    </li></summary>\n",
       "                    <ul style=\"margin: 0px; list-style-position: outside;\">\n",
       "                    <details closed>\n",
       "                    <summary style=\"display: list-item;\">\n",
       "                    <li style=\"display: inline;\">\n",
       "                    EDS\n",
       "                    </li></summary>\n",
       "                    \n",
       "    <ul style=\"margin: 0px; list-style-position: outside;\">\n",
       "    <li style='margin-left:1em; padding-left: 0.5em'>azimuth_angle = 90.0</li></ul>\n",
       "    \n",
       "    <ul style=\"margin: 0px; list-style-position: outside;\">\n",
       "    <li style='margin-left:1em; padding-left: 0.5em'>detector_type = SuperX</li></ul>\n",
       "    \n",
       "    <ul style=\"margin: 0px; list-style-position: outside;\">\n",
       "    <li style='margin-left:1em; padding-left: 0.5em'>elevation_angle = 19.99999998</li></ul>\n",
       "    \n",
       "    <ul style=\"margin: 0px; list-style-position: outside;\">\n",
       "    <li style='margin-left:1em; padding-left: 0.5em'>energy_resolution_MnKa = 130.0</li></ul>\n",
       "    \n",
       "    <ul style=\"margin: 0px; list-style-position: outside;\">\n",
       "    <li style='margin-left:1em; padding-left: 0.5em'>real_time = 0.0</li></ul>\n",
       "    </details></ul></details></ul><ul style=\"margin: 0px; list-style-position: outside;\">\n",
       "                    <details closed>\n",
       "                    <summary style=\"display: list-item;\">\n",
       "                    <li style=\"display: inline;\">\n",
       "                    Stage\n",
       "                    </li></summary>\n",
       "                    \n",
       "    <ul style=\"margin: 0px; list-style-position: outside;\">\n",
       "    <li style='margin-left:1em; padding-left: 0.5em'>rotation = 0</li></ul>\n",
       "    \n",
       "    <ul style=\"margin: 0px; list-style-position: outside;\">\n",
       "    <li style='margin-left:1em; padding-left: 0.5em'>tilt_alpha = 0</li></ul>\n",
       "    \n",
       "    <ul style=\"margin: 0px; list-style-position: outside;\">\n",
       "    <li style='margin-left:1em; padding-left: 0.5em'>x = 0</li></ul>\n",
       "    \n",
       "    <ul style=\"margin: 0px; list-style-position: outside;\">\n",
       "    <li style='margin-left:1em; padding-left: 0.5em'>y = 0</li></ul>\n",
       "    \n",
       "    <ul style=\"margin: 0px; list-style-position: outside;\">\n",
       "    <li style='margin-left:1em; padding-left: 0.5em'>z = 0</li></ul>\n",
       "    </details></ul>\n",
       "    <ul style=\"margin: 0px; list-style-position: outside;\">\n",
       "    <li style='margin-left:1em; padding-left: 0.5em'>beam_energy = 300.0</li></ul>\n",
       "    \n",
       "    <ul style=\"margin: 0px; list-style-position: outside;\">\n",
       "    <li style='margin-left:1em; padding-left: 0.5em'>magnification = 74113.56523</li></ul>\n",
       "    </details></ul></details></ul><ul style=\"margin: 0px; list-style-position: outside;\">\n",
       "                    <details open>\n",
       "                    <summary style=\"display: list-item;\">\n",
       "                    <li style=\"display: inline;\">\n",
       "                    General\n",
       "                    </li></summary>\n",
       "                    <ul style=\"margin: 0px; list-style-position: outside;\">\n",
       "                    <details closed>\n",
       "                    <summary style=\"display: list-item;\">\n",
       "                    <li style=\"display: inline;\">\n",
       "                    FileIO\n",
       "                    </li></summary>\n",
       "                    <ul style=\"margin: 0px; list-style-position: outside;\">\n",
       "                    <details closed>\n",
       "                    <summary style=\"display: list-item;\">\n",
       "                    <li style=\"display: inline;\">\n",
       "                    0\n",
       "                    </li></summary>\n",
       "                    \n",
       "    <ul style=\"margin: 0px; list-style-position: outside;\">\n",
       "    <li style='margin-left:1em; padding-left: 0.5em'>hyperspy_version = 1.7.3</li></ul>\n",
       "    \n",
       "    <ul style=\"margin: 0px; list-style-position: outside;\">\n",
       "    <li style='margin-left:1em; padding-left: 0.5em'>io_plugin = hyperspy.io_plugins.bruker</li></ul>\n",
       "    \n",
       "    <ul style=\"margin: 0px; list-style-position: outside;\">\n",
       "    <li style='margin-left:1em; padding-left: 0.5em'>operation = load</li></ul>\n",
       "    \n",
       "    <ul style=\"margin: 0px; list-style-position: outside;\">\n",
       "    <li style='margin-left:1em; padding-left: 0.5em'>timestamp = 2024-03-18T16:18:25.240119+02:00</li></ul>\n",
       "    </details></ul></details></ul>\n",
       "    <ul style=\"margin: 0px; list-style-position: outside;\">\n",
       "    <li style='margin-left:1em; padding-left: 0.5em'>date = 2024-03-18</li></ul>\n",
       "    \n",
       "    <ul style=\"margin: 0px; list-style-position: outside;\">\n",
       "    <li style='margin-left:1em; padding-left: 0.5em'>original_filename = SI_HAADF_1534_20240131_original.bcf</li></ul>\n",
       "    \n",
       "    <ul style=\"margin: 0px; list-style-position: outside;\">\n",
       "    <li style='margin-left:1em; padding-left: 0.5em'>time = 13:09:01</li></ul>\n",
       "    \n",
       "    <ul style=\"margin: 0px; list-style-position: outside;\">\n",
       "    <li style='margin-left:1em; padding-left: 0.5em'>title = EDX</li></ul>\n",
       "    </details></ul><ul style=\"margin: 0px; list-style-position: outside;\">\n",
       "                    <details open>\n",
       "                    <summary style=\"display: list-item;\">\n",
       "                    <li style=\"display: inline;\">\n",
       "                    Sample\n",
       "                    </li></summary>\n",
       "                    \n",
       "    <ul style=\"margin: 0px; list-style-position: outside;\">\n",
       "    <li style='margin-left:1em; padding-left: 0.5em'>elements = []</li></ul>\n",
       "    \n",
       "    <ul style=\"margin: 0px; list-style-position: outside;\">\n",
       "    <li style='margin-left:1em; padding-left: 0.5em'>name = Undefinded</li></ul>\n",
       "    \n",
       "    <ul style=\"margin: 0px; list-style-position: outside;\">\n",
       "    <li style='margin-left:1em; padding-left: 0.5em'>xray_lines = []</li></ul>\n",
       "    </details></ul><ul style=\"margin: 0px; list-style-position: outside;\">\n",
       "                    <details open>\n",
       "                    <summary style=\"display: list-item;\">\n",
       "                    <li style=\"display: inline;\">\n",
       "                    Signal\n",
       "                    </li></summary>\n",
       "                    \n",
       "    <ul style=\"margin: 0px; list-style-position: outside;\">\n",
       "    <li style='margin-left:1em; padding-left: 0.5em'>quantity = X-rays (Counts)</li></ul>\n",
       "    \n",
       "    <ul style=\"margin: 0px; list-style-position: outside;\">\n",
       "    <li style='margin-left:1em; padding-left: 0.5em'>signal_type = EDS_TEM</li></ul>\n",
       "    </details></ul>"
      ],
      "text/plain": [
       "├── Acquisition_instrument\n",
       "│   └── TEM\n",
       "│       ├── Detector\n",
       "│       │   └── EDS\n",
       "│       │       ├── azimuth_angle = 90.0\n",
       "│       │       ├── detector_type = SuperX\n",
       "│       │       ├── elevation_angle = 19.99999998\n",
       "│       │       ├── energy_resolution_MnKa = 130.0\n",
       "│       │       └── real_time = 0.0\n",
       "│       ├── Stage\n",
       "│       │   ├── rotation = 0\n",
       "│       │   ├── tilt_alpha = 0\n",
       "│       │   ├── x = 0\n",
       "│       │   ├── y = 0\n",
       "│       │   └── z = 0\n",
       "│       ├── beam_energy = 300.0\n",
       "│       └── magnification = 74113.56523\n",
       "├── General\n",
       "│   ├── FileIO\n",
       "│   │   └── 0\n",
       "│   │       ├── hyperspy_version = 1.7.3\n",
       "│   │       ├── io_plugin = hyperspy.io_plugins.bruker\n",
       "│   │       ├── operation = load\n",
       "│   │       └── timestamp = 2024-03-18T16:18:25.240119+02:00\n",
       "│   ├── date = 2024-03-18\n",
       "│   ├── original_filename = SI_HAADF_1534_20240131_original.bcf\n",
       "│   ├── time = 13:09:01\n",
       "│   └── title = EDX\n",
       "├── Sample\n",
       "│   ├── elements = []\n",
       "│   ├── name = Undefinded\n",
       "│   └── xray_lines = []\n",
       "└── Signal\n",
       "    ├── quantity = X-rays (Counts)\n",
       "    └── signal_type = EDS_TEM"
      ]
     },
     "execution_count": 40,
     "metadata": {},
     "output_type": "execute_result"
    }
   ],
   "source": [
    "s.metadata"
   ]
  },
  {
   "cell_type": "code",
   "execution_count": 45,
   "id": "4309e1b1",
   "metadata": {},
   "outputs": [],
   "source": [
    "s.sum().plot(True)"
   ]
  },
  {
   "cell_type": "code",
   "execution_count": 51,
   "id": "56311091",
   "metadata": {},
   "outputs": [],
   "source": [
    "s.set_elements(['Al','O'])\n",
    "s.set_lines(['Al_Ka', 'O_Ka'])"
   ]
  },
  {
   "cell_type": "code",
   "execution_count": 52,
   "id": "35a406b1",
   "metadata": {},
   "outputs": [],
   "source": [
    "s.set_microscope_parameters()"
   ]
  },
  {
   "cell_type": "code",
   "execution_count": 18,
   "id": "c1c47dd2",
   "metadata": {},
   "outputs": [],
   "source": [
    "hs.preferences.gui()"
   ]
  },
  {
   "cell_type": "code",
   "execution_count": 47,
   "id": "215cab08",
   "metadata": {},
   "outputs": [],
   "source": [
    "s.axes_manager.gui()"
   ]
  },
  {
   "cell_type": "code",
   "execution_count": 53,
   "id": "caee1173",
   "metadata": {},
   "outputs": [
    {
     "data": {
      "text/html": [
       "\n",
       "    <ul style=\"margin: 0px; list-style-position: outside;\">\n",
       "    <li style='margin-left:1em; padding-left: 0.5em'>elements = ['Al', 'O']</li></ul>\n",
       "    \n",
       "    <ul style=\"margin: 0px; list-style-position: outside;\">\n",
       "    <li style='margin-left:1em; padding-left: 0.5em'>name = Undefinded</li></ul>\n",
       "    \n",
       "    <ul style=\"margin: 0px; list-style-position: outside;\">\n",
       "    <li style='margin-left:1em; padding-left: 0.5em'>xray_lines = ['Al_Ka', 'O_Ka']</li></ul>\n",
       "    "
      ],
      "text/plain": [
       "├── elements = ['Al', 'O']\n",
       "├── name = Undefinded\n",
       "└── xray_lines = ['Al_Ka', 'O_Ka']"
      ]
     },
     "execution_count": 53,
     "metadata": {},
     "output_type": "execute_result"
    }
   ],
   "source": [
    "s.metadata.Sample"
   ]
  },
  {
   "cell_type": "code",
   "execution_count": 54,
   "id": "2ccf8b81",
   "metadata": {},
   "outputs": [
    {
     "data": {
      "text/html": [
       "<ul style=\"margin: 0px; list-style-position: outside;\">\n",
       "                    <details open>\n",
       "                    <summary style=\"display: list-item;\">\n",
       "                    <li style=\"display: inline;\">\n",
       "                    Ka\n",
       "                    </li></summary>\n",
       "                    \n",
       "    <ul style=\"margin: 0px; list-style-position: outside;\">\n",
       "    <li style='margin-left:1em; padding-left: 0.5em'>energy (keV) = 0.5249</li></ul>\n",
       "    \n",
       "    <ul style=\"margin: 0px; list-style-position: outside;\">\n",
       "    <li style='margin-left:1em; padding-left: 0.5em'>weight = 1.0</li></ul>\n",
       "    </details></ul>"
      ],
      "text/plain": [
       "└── Ka\n",
       "    ├── energy (keV) = 0.5249\n",
       "    └── weight = 1.0"
      ]
     },
     "execution_count": 54,
     "metadata": {},
     "output_type": "execute_result"
    }
   ],
   "source": [
    "hs.material.elements.O.Atomic_properties.Xray_lines"
   ]
  },
  {
   "cell_type": "code",
   "execution_count": 55,
   "id": "b065ce25",
   "metadata": {},
   "outputs": [
    {
     "data": {
      "text/plain": [
       "[<BaseSignal, title: X-ray line intensity of EDX: Al_Ka at 1.49 keV, dimensions: (238, 141|)>,\n",
       " <BaseSignal, title: X-ray line intensity of EDX: O_Ka at 0.52 keV, dimensions: (238, 141|)>]"
      ]
     },
     "execution_count": 55,
     "metadata": {},
     "output_type": "execute_result"
    }
   ],
   "source": [
    "s.get_lines_intensity()"
   ]
  },
  {
   "cell_type": "code",
   "execution_count": 57,
   "id": "70e23dec",
   "metadata": {},
   "outputs": [],
   "source": [
    "s.add_lines()"
   ]
  },
  {
   "cell_type": "code",
   "execution_count": 58,
   "id": "e9540557",
   "metadata": {},
   "outputs": [],
   "source": [
    "s.plot(integration_windows='auto')"
   ]
  },
  {
   "cell_type": "code",
   "execution_count": 60,
   "id": "f11cd53e",
   "metadata": {},
   "outputs": [],
   "source": [
    "s.add_elements(['C','Mn','Cu','Al','Zr'])\n",
    "s.plot(True)"
   ]
  },
  {
   "cell_type": "code",
   "execution_count": null,
   "id": "3dfd28bd",
   "metadata": {},
   "outputs": [],
   "source": []
  }
 ],
 "metadata": {
  "kernelspec": {
   "display_name": "Python [conda env:HyperSpy-bundle] *",
   "language": "python",
   "name": "conda-env-HyperSpy-bundle-py"
  },
  "language_info": {
   "codemirror_mode": {
    "name": "ipython",
    "version": 3
   },
   "file_extension": ".py",
   "mimetype": "text/x-python",
   "name": "python",
   "nbconvert_exporter": "python",
   "pygments_lexer": "ipython3",
   "version": "3.8.5"
  }
 },
 "nbformat": 4,
 "nbformat_minor": 5
}
